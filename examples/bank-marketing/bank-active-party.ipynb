{
 "cells": [
  {
   "cell_type": "markdown",
   "id": "b7774d10",
   "metadata": {
    "pycharm": {
     "name": "#%% md\n"
    }
   },
   "source": [
    "# Train a neural network model on the active party's bank dataset"
   ]
  },
  {
   "cell_type": "code",
   "execution_count": 1,
   "id": "f82b4ab8",
   "metadata": {},
   "outputs": [
    {
     "data": {
      "text/plain": [
       "<torch._C.Generator at 0x7f4991685570>"
      ]
     },
     "execution_count": 1,
     "metadata": {},
     "output_type": "execute_result"
    }
   ],
   "source": [
    "import torch\n",
    "from torch.utils.data import Dataset, DataLoader\n",
    "import torch.nn as nn\n",
    "import random\n",
    "import matplotlib.pyplot as plt\n",
    "import numpy as np\n",
    "from bank_dataset import BankDataset\n",
    "\n",
    "manual_seed = 47\n",
    "random.seed(manual_seed)\n",
    "torch.manual_seed(manual_seed)"
   ]
  },
  {
   "cell_type": "code",
   "execution_count": 2,
   "id": "898bb8cc",
   "metadata": {},
   "outputs": [
    {
     "name": "stdout",
     "output_type": "stream",
     "text": [
      "Len(samples): 7718 Positive labels sum: 3859.0\n",
      "<bank_dataset.BankDataset object at 0x7f498f198a90> 7718\n",
      "example sample data:  tensor([5.2113e-01, 5.0005e-01, 5.0025e-01, 5.0008e-01, 1.0000e+00, 9.9900e-04,\n",
      "        9.9900e-04, 9.9900e-04, 1.1110e-04, 2.4994e-04])\n",
      "example sample label:  tensor(0.)\n",
      "torch.Size([10]) torch.Size([])\n"
     ]
    }
   ],
   "source": [
    "bank_set = BankDataset('dataset/bank_additional_full_filtered_balanced_active.csv')\n",
    "print(bank_set, len(bank_set))\n",
    "\n",
    "x0, y0 = bank_set[0]\n",
    "print(\"example sample data: \", x0)\n",
    "print(\"example sample label: \", y0)\n",
    "print(x0.shape, y0.shape)"
   ]
  },
  {
   "cell_type": "code",
   "execution_count": 3,
   "id": "de580bb0",
   "metadata": {
    "collapsed": false,
    "jupyter": {
     "outputs_hidden": false
    },
    "pycharm": {
     "name": "#%%\n"
    }
   },
   "outputs": [
    {
     "name": "stdout",
     "output_type": "stream",
     "text": [
      "len(train_set): 6175\n",
      "len(test_set): 1543\n",
      "len(train_loader): 97\n",
      "len(test_loader): 25\n"
     ]
    }
   ],
   "source": [
    "# split the dataset into train_set and test_set\n",
    "ratio = 0.2\n",
    "test_len = int(len(bank_set) * 0.2)\n",
    "total_len = int(len(bank_set))\n",
    "train_len = total_len - test_len\n",
    "\n",
    "train_set, test_set = torch.utils.data.random_split(bank_set, [train_len, test_len])\n",
    "print(\"len(train_set):\", len(train_set))\n",
    "print(\"len(test_set):\", len(test_set))\n",
    "\n",
    "train_loader = torch.utils.data.DataLoader(train_set, batch_size=64, shuffle=True)\n",
    "test_loader = torch.utils.data.DataLoader(test_set, batch_size=64, shuffle=True)\n",
    "print(\"len(train_loader):\", len(train_loader))\n",
    "print(\"len(test_loader):\", len(test_loader))"
   ]
  },
  {
   "cell_type": "markdown",
   "id": "ea892198",
   "metadata": {},
   "source": [
    "### Create the NN model for the bank dataset"
   ]
  },
  {
   "cell_type": "code",
   "execution_count": 4,
   "id": "5727d306",
   "metadata": {},
   "outputs": [
    {
     "name": "stdout",
     "output_type": "stream",
     "text": [
      "input_size =  10\n"
     ]
    }
   ],
   "source": [
    "input_size = x0.shape[0]\n",
    "print(\"input_size = \", input_size)\n",
    "\n",
    "class BankPreModel(nn.Module):\n",
    "    \"\"\"\n",
    "    Define the model structure for the bank dataset\n",
    "    \"\"\"\n",
    "    def __init__(self):\n",
    "        super(BankPreModel, self).__init__()\n",
    "        self.dense = nn.Sequential(\n",
    "            nn.Linear(input_size, 32),\n",
    "            nn.ReLU(),\n",
    "            nn.Linear(32, 16),\n",
    "            nn.ReLU(),\n",
    "            nn.Linear(16, 1),\n",
    "            nn.Sigmoid()\n",
    "        )\n",
    "        \n",
    "    def forward(self, x):\n",
    "        return self.dense(x)"
   ]
  },
  {
   "cell_type": "code",
   "execution_count": 5,
   "id": "fad2a23b",
   "metadata": {},
   "outputs": [],
   "source": [
    "def check_test_accuracy(model, dataloader, correct_base):\n",
    "    correct = 0.0\n",
    "    with torch.no_grad():\n",
    "        for x, y in dataloader:\n",
    "            y_hat = model(x)\n",
    "            correct += ( (torch.zeros_like(y) + (y_hat > 0.5 ).squeeze() ) == y).sum()\n",
    "    return correct / correct_base"
   ]
  },
  {
   "cell_type": "markdown",
   "id": "9c200a8c",
   "metadata": {},
   "source": [
    "### Train the NN model"
   ]
  },
  {
   "cell_type": "code",
   "execution_count": 8,
   "id": "8b17edc4",
   "metadata": {
    "collapsed": false,
    "jupyter": {
     "outputs_hidden": false
    },
    "pycharm": {
     "name": "#%%\n"
    }
   },
   "outputs": [
    {
     "name": "stdout",
     "output_type": "stream",
     "text": [
      "In epoch 0, train accuracy is 0.548987865447998, test accuracy is 0.5787426829338074.\n",
      "In epoch 1, train accuracy is 0.6064777374267578, test accuracy is 0.6014257669448853.\n",
      "In epoch 2, train accuracy is 0.609554648399353, test accuracy is 0.6007776856422424.\n",
      "In epoch 3, train accuracy is 0.6134412884712219, test accuracy is 0.605314314365387.\n",
      "In epoch 4, train accuracy is 0.6114979982376099, test accuracy is 0.6072585582733154.\n",
      "In epoch 5, train accuracy is 0.6148988008499146, test accuracy is 0.6150356531143188.\n",
      "In epoch 6, train accuracy is 0.6166801452636719, test accuracy is 0.6163318157196045.\n",
      "In epoch 7, train accuracy is 0.6202428936958313, test accuracy is 0.618276059627533.\n",
      "In epoch 8, train accuracy is 0.6208906769752502, test accuracy is 0.6195722818374634.\n",
      "In epoch 9, train accuracy is 0.6231579184532166, test accuracy is 0.6156837344169617.\n",
      "In epoch 10, train accuracy is 0.6251012086868286, test accuracy is 0.6163318157196045.\n",
      "In epoch 11, train accuracy is 0.6239675879478455, test accuracy is 0.6130914092063904.\n",
      "In epoch 12, train accuracy is 0.6246153712272644, test accuracy is 0.6189242005348206.\n",
      "In epoch 13, train accuracy is 0.6275303363800049, test accuracy is 0.618276059627533.\n",
      "In epoch 14, train accuracy is 0.628663957118988, test accuracy is 0.618276059627533.\n",
      "In epoch 15, train accuracy is 0.6283400654792786, test accuracy is 0.6137394905090332.\n",
      "In epoch 16, train accuracy is 0.6310931444168091, test accuracy is 0.6130914092063904.\n",
      "In epoch 17, train accuracy is 0.634979784488678, test accuracy is 0.6156837344169617.\n",
      "In epoch 18, train accuracy is 0.6322267055511475, test accuracy is 0.6156837344169617.\n",
      "In epoch 19, train accuracy is 0.6331983804702759, test accuracy is 0.6195722818374634.\n",
      "In epoch 20, train accuracy is 0.6331983804702759, test accuracy is 0.620868444442749.\n",
      "In epoch 21, train accuracy is 0.6309311985969543, test accuracy is 0.6169798970222473.\n",
      "In epoch 22, train accuracy is 0.6370850205421448, test accuracy is 0.6176279783248901.\n",
      "In epoch 23, train accuracy is 0.6374089121818542, test accuracy is 0.6150356531143188.\n",
      "In epoch 24, train accuracy is 0.63692307472229, test accuracy is 0.6169798970222473.\n",
      "In epoch 25, train accuracy is 0.637570858001709, test accuracy is 0.618276059627533.\n",
      "In epoch 26, train accuracy is 0.6380566954612732, test accuracy is 0.6169798970222473.\n",
      "In epoch 27, train accuracy is 0.6419433355331421, test accuracy is 0.6156837344169617.\n",
      "In epoch 28, train accuracy is 0.6378947496414185, test accuracy is 0.6169798970222473.\n",
      "In epoch 29, train accuracy is 0.6435627341270447, test accuracy is 0.614387571811676.\n",
      "In epoch 30, train accuracy is 0.6406477689743042, test accuracy is 0.6176279783248901.\n",
      "In epoch 31, train accuracy is 0.6414574980735779, test accuracy is 0.6163318157196045.\n",
      "In epoch 32, train accuracy is 0.639514148235321, test accuracy is 0.6163318157196045.\n",
      "In epoch 33, train accuracy is 0.6438866257667542, test accuracy is 0.6228126883506775.\n",
      "In epoch 34, train accuracy is 0.6474493741989136, test accuracy is 0.6202203631401062.\n",
      "In epoch 35, train accuracy is 0.6455060839653015, test accuracy is 0.620868444442749.\n",
      "In epoch 36, train accuracy is 0.6464777588844299, test accuracy is 0.6195722818374634.\n",
      "In epoch 37, train accuracy is 0.6463158130645752, test accuracy is 0.6254050731658936.\n",
      "In epoch 38, train accuracy is 0.645182192325592, test accuracy is 0.6254050731658936.\n",
      "In epoch 39, train accuracy is 0.6448583006858826, test accuracy is 0.620868444442749.\n",
      "In epoch 40, train accuracy is 0.6503643989562988, test accuracy is 0.6254050731658936.\n",
      "In epoch 41, train accuracy is 0.6489068865776062, test accuracy is 0.6241088509559631.\n",
      "In epoch 42, train accuracy is 0.6524696350097656, test accuracy is 0.6189242005348206.\n",
      "In epoch 43, train accuracy is 0.6469635367393494, test accuracy is 0.6292935609817505.\n",
      "In epoch 44, train accuracy is 0.6508501768112183, test accuracy is 0.627349317073822.\n",
      "In epoch 45, train accuracy is 0.6519837975502014, test accuracy is 0.620868444442749.\n",
      "In epoch 46, train accuracy is 0.6502024531364441, test accuracy is 0.6260531544685364.\n",
      "In epoch 47, train accuracy is 0.653441309928894, test accuracy is 0.6279973983764648.\n",
      "In epoch 48, train accuracy is 0.6497166156768799, test accuracy is 0.6215165257453918.\n",
      "In epoch 49, train accuracy is 0.654089093208313, test accuracy is 0.627349317073822.\n",
      "In epoch 50, train accuracy is 0.6531174182891846, test accuracy is 0.6124432682991028.\n",
      "In epoch 51, train accuracy is 0.6521457433700562, test accuracy is 0.6254050731658936.\n",
      "In epoch 52, train accuracy is 0.6532793641090393, test accuracy is 0.620868444442749.\n",
      "In epoch 53, train accuracy is 0.6516599059104919, test accuracy is 0.6176279783248901.\n",
      "In epoch 54, train accuracy is 0.6523076891899109, test accuracy is 0.6344782710075378.\n",
      "In epoch 55, train accuracy is 0.6553846001625061, test accuracy is 0.6234607696533203.\n",
      "In epoch 56, train accuracy is 0.654089093208313, test accuracy is 0.6189242005348206.\n",
      "In epoch 57, train accuracy is 0.6544129848480225, test accuracy is 0.6305897831916809.\n",
      "In epoch 58, train accuracy is 0.6565182209014893, test accuracy is 0.6299416422843933.\n",
      "In epoch 59, train accuracy is 0.6563562750816345, test accuracy is 0.6260531544685364.\n",
      "In epoch 60, train accuracy is 0.6579757332801819, test accuracy is 0.6286454796791077.\n",
      "In epoch 61, train accuracy is 0.6578137874603271, test accuracy is 0.6286454796791077.\n",
      "In epoch 62, train accuracy is 0.6579757332801819, test accuracy is 0.620868444442749.\n",
      "In epoch 63, train accuracy is 0.6589473485946655, test accuracy is 0.6215165257453918.\n",
      "In epoch 64, train accuracy is 0.6620243191719055, test accuracy is 0.6305897831916809.\n",
      "In epoch 65, train accuracy is 0.6582996249198914, test accuracy is 0.627349317073822.\n",
      "In epoch 66, train accuracy is 0.6629959344863892, test accuracy is 0.6241088509559631.\n",
      "In epoch 67, train accuracy is 0.6568421125411987, test accuracy is 0.6279973983764648.\n",
      "In epoch 68, train accuracy is 0.6629959344863892, test accuracy is 0.6267012357711792.\n",
      "In epoch 69, train accuracy is 0.6584615111351013, test accuracy is 0.6344782710075378.\n",
      "In epoch 70, train accuracy is 0.6587854027748108, test accuracy is 0.6292935609817505.\n",
      "In epoch 71, train accuracy is 0.6659109592437744, test accuracy is 0.6241088509559631.\n",
      "In epoch 72, train accuracy is 0.6608906984329224, test accuracy is 0.6247569918632507.\n",
      "In epoch 73, train accuracy is 0.6579757332801819, test accuracy is 0.6279973983764648.\n",
      "In epoch 74, train accuracy is 0.6629959344863892, test accuracy is 0.627349317073822.\n",
      "In epoch 75, train accuracy is 0.6620243191719055, test accuracy is 0.6267012357711792.\n",
      "In epoch 76, train accuracy is 0.6636437177658081, test accuracy is 0.6377187371253967.\n",
      "In epoch 77, train accuracy is 0.6660728454589844, test accuracy is 0.6292935609817505.\n",
      "In epoch 78, train accuracy is 0.6655870676040649, test accuracy is 0.6215165257453918.\n",
      "In epoch 79, train accuracy is 0.6647773385047913, test accuracy is 0.620868444442749.\n",
      "In epoch 80, train accuracy is 0.6621862053871155, test accuracy is 0.6312378644943237.\n",
      "In epoch 81, train accuracy is 0.6683400869369507, test accuracy is 0.633830189704895.\n",
      "In epoch 82, train accuracy is 0.6668825745582581, test accuracy is 0.6279973983764648.\n",
      "In epoch 83, train accuracy is 0.6634817719459534, test accuracy is 0.633830189704895.\n",
      "In epoch 84, train accuracy is 0.6676923036575317, test accuracy is 0.6357744932174683.\n",
      "In epoch 85, train accuracy is 0.6647773385047913, test accuracy is 0.627349317073822.\n",
      "In epoch 86, train accuracy is 0.668178141117096, test accuracy is 0.6325340270996094.\n",
      "In epoch 87, train accuracy is 0.6694737076759338, test accuracy is 0.6292935609817505.\n",
      "In epoch 88, train accuracy is 0.6655870676040649, test accuracy is 0.6441996097564697.\n",
      "In epoch 89, train accuracy is 0.6699594855308533, test accuracy is 0.6234607696533203.\n",
      "In epoch 90, train accuracy is 0.6693117618560791, test accuracy is 0.6195722818374634.\n",
      "In epoch 91, train accuracy is 0.6696356534957886, test accuracy is 0.6279973983764648.\n",
      "In epoch 92, train accuracy is 0.6654251217842102, test accuracy is 0.6441996097564697.\n",
      "In epoch 93, train accuracy is 0.6696356534957886, test accuracy is 0.633830189704895.\n",
      "In epoch 94, train accuracy is 0.6676923036575317, test accuracy is 0.6247569918632507.\n",
      "In epoch 95, train accuracy is 0.6736842393875122, test accuracy is 0.6364225745201111.\n",
      "In epoch 96, train accuracy is 0.6694737076759338, test accuracy is 0.6299416422843933.\n",
      "In epoch 97, train accuracy is 0.6662347912788391, test accuracy is 0.6448476910591125.\n",
      "In epoch 98, train accuracy is 0.6663967370986938, test accuracy is 0.6377187371253967.\n",
      "In epoch 99, train accuracy is 0.672550618648529, test accuracy is 0.6390148997306824.\n"
     ]
    }
   ],
   "source": [
    "device = torch.device(\"cuda:0\" if torch.cuda.is_available() else \"cpu\")\n",
    "\n",
    "my_model = BankPreModel()\n",
    "optimizer = torch.optim.Adam(my_model.parameters())\n",
    "loss_fn = torch.nn.BCELoss()\n",
    "losses = []\n",
    "train_accuracies = []\n",
    "test_accuracies = []\n",
    "\n",
    "epochs = 100\n",
    "\n",
    "for epoch in range(epochs):\n",
    "    correct = 0.0\n",
    "    test_idx = 0\n",
    "    train_correct_base = 0.0\n",
    "    train_loss = 0.0\n",
    "    for x, y in train_loader:\n",
    "        # zero grads\n",
    "        optimizer.zero_grad()\n",
    "\n",
    "        # make prediction\n",
    "        y_hat = my_model(x)\n",
    "\n",
    "        # compute loss\n",
    "        loss = loss_fn(y_hat, y)\n",
    "\n",
    "        # back-propagation\n",
    "        loss.backward()\n",
    "\n",
    "        # update the weights\n",
    "        optimizer.step()\n",
    "\n",
    "        # compute the accuracy and record\n",
    "        train_loss += loss\n",
    "        correct += ( (torch.zeros_like(y) + (y_hat > 0.5 ).squeeze() ) == y).sum()\n",
    "        test_idx += 1\n",
    "\n",
    "        train_correct_base += x.shape[0]\n",
    "    \n",
    "    train_loss = train_loss / len(train_loader)\n",
    "    train = correct / train_correct_base\n",
    "    train_accuracies.append(train)\n",
    "    test = check_test_accuracy(my_model, test_loader, len(test_set))\n",
    "    test_accuracies.append(test)\n",
    "    print(\"In epoch {}, train accuracy is {}, test accuracy is {}.\".format(epoch, train, test))\n",
    "    losses.append(train_loss)"
   ]
  },
  {
   "cell_type": "markdown",
   "id": "38395000",
   "metadata": {},
   "source": [
    "### Plot the figures for illustration"
   ]
  },
  {
   "cell_type": "code",
   "execution_count": 9,
   "id": "c18f05ce",
   "metadata": {
    "collapsed": false,
    "jupyter": {
     "outputs_hidden": false
    },
    "pycharm": {
     "name": "#%%\n"
    }
   },
   "outputs": [
    {
     "data": {
      "image/png": "[encoded data removed]",
      "text/plain": [
       "<Figure size 1296x216 with 3 Axes>"
      ]
     },
     "metadata": {
      "needs_background": "light"
     },
     "output_type": "display_data"
    }
   ],
   "source": [
    "plt.figure(figsize=(18, 3))\n",
    "\n",
    "plt.subplot(1, 3, 1)\n",
    "plt.plot(range(len(losses)), losses, '-ro')\n",
    "plt.title(\"Losses\")\n",
    "plt.subplot(1, 3, 2)\n",
    "plt.plot(range(len(train_accuracies)), train_accuracies, '-ro')\n",
    "plt.title(\"Training Accuracy\")\n",
    "plt.subplot(1, 3, 3)\n",
    "plt.plot(range(len(test_accuracies)), test_accuracies, '-ro')\n",
    "plt.title(\"Testing Accuracy\")\n",
    "plt.savefig(\"bank-active.png\")"
   ]
  },
  {
   "cell_type": "code",
   "execution_count": null,
   "id": "dd72d864",
   "metadata": {},
   "outputs": [],
   "source": []
  }
 ],
 "metadata": {
  "kernelspec": {
   "display_name": "Python 3 (ipykernel)",
   "language": "python",
   "name": "python3"
  },
  "language_info": {
   "codemirror_mode": {
    "name": "ipython",
    "version": 3
   },
   "file_extension": ".py",
   "mimetype": "text/x-python",
   "name": "python",
   "nbconvert_exporter": "python",
   "pygments_lexer": "ipython3",
   "version": "3.7.12"
  }
 },
 "nbformat": 4,
 "nbformat_minor": 5
}